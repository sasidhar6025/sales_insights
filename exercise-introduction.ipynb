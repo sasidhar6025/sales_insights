{
 "cells": [
  {
   "cell_type": "code",
   "execution_count": 1,
   "id": "287ce9f7",
   "metadata": {
    "execution": {
     "iopub.execute_input": "2022-10-19T20:27:00.817088Z",
     "iopub.status.busy": "2022-10-19T20:27:00.816337Z",
     "iopub.status.idle": "2022-10-19T20:27:00.833014Z",
     "shell.execute_reply": "2022-10-19T20:27:00.832111Z"
    },
    "papermill": {
     "duration": 0.026956,
     "end_time": "2022-10-19T20:27:00.835327",
     "exception": false,
     "start_time": "2022-10-19T20:27:00.808371",
     "status": "completed"
    },
    "tags": []
   },
   "outputs": [
    {
     "data": {
      "text/plain": [
       "['sample_submission.csv',\n",
       " 'sample_submission.csv.gz',\n",
       " 'train.csv.gz',\n",
       " 'data_description.txt',\n",
       " 'test.csv.gz',\n",
       " 'train.csv',\n",
       " 'test.csv']"
      ]
     },
     "execution_count": 1,
     "metadata": {},
     "output_type": "execute_result"
    }
   ],
   "source": [
    "import pandas as pd\n",
    "import os\n",
    "os.listdir(\"/kaggle/input\")"
   ]
  },
  {
   "cell_type": "code",
   "execution_count": 2,
   "id": "ef3391a9",
   "metadata": {
    "execution": {
     "iopub.execute_input": "2022-10-19T20:27:00.847927Z",
     "iopub.status.busy": "2022-10-19T20:27:00.847514Z",
     "iopub.status.idle": "2022-10-19T20:27:00.922500Z",
     "shell.execute_reply": "2022-10-19T20:27:00.921050Z"
    },
    "papermill": {
     "duration": 0.083997,
     "end_time": "2022-10-19T20:27:00.925170",
     "exception": false,
     "start_time": "2022-10-19T20:27:00.841173",
     "status": "completed"
    },
    "tags": []
   },
   "outputs": [],
   "source": [
    "train_df=pd.read_csv(\"/kaggle/input/train.csv\")\n",
    "test_df=pd.read_csv(\"/kaggle/input/train.csv\")\n",
    "train_df.dropna(axis=0,subset=[\"SalePrice\"],inplace=True )\n",
    "target=train_df.SalePrice"
   ]
  },
  {
   "cell_type": "code",
   "execution_count": 3,
   "id": "340b1f32",
   "metadata": {
    "execution": {
     "iopub.execute_input": "2022-10-19T20:27:00.936965Z",
     "iopub.status.busy": "2022-10-19T20:27:00.936571Z",
     "iopub.status.idle": "2022-10-19T20:27:00.977574Z",
     "shell.execute_reply": "2022-10-19T20:27:00.976300Z"
    },
    "papermill": {
     "duration": 0.050073,
     "end_time": "2022-10-19T20:27:00.980377",
     "exception": false,
     "start_time": "2022-10-19T20:27:00.930304",
     "status": "completed"
    },
    "tags": []
   },
   "outputs": [
    {
     "data": {
      "text/html": [
       "<div>\n",
       "<style scoped>\n",
       "    .dataframe tbody tr th:only-of-type {\n",
       "        vertical-align: middle;\n",
       "    }\n",
       "\n",
       "    .dataframe tbody tr th {\n",
       "        vertical-align: top;\n",
       "    }\n",
       "\n",
       "    .dataframe thead th {\n",
       "        text-align: right;\n",
       "    }\n",
       "</style>\n",
       "<table border=\"1\" class=\"dataframe\">\n",
       "  <thead>\n",
       "    <tr style=\"text-align: right;\">\n",
       "      <th></th>\n",
       "      <th>Id</th>\n",
       "      <th>MSSubClass</th>\n",
       "      <th>MSZoning</th>\n",
       "      <th>LotFrontage</th>\n",
       "      <th>LotArea</th>\n",
       "      <th>Street</th>\n",
       "      <th>Alley</th>\n",
       "      <th>LotShape</th>\n",
       "      <th>LandContour</th>\n",
       "      <th>Utilities</th>\n",
       "      <th>...</th>\n",
       "      <th>PoolArea</th>\n",
       "      <th>PoolQC</th>\n",
       "      <th>Fence</th>\n",
       "      <th>MiscFeature</th>\n",
       "      <th>MiscVal</th>\n",
       "      <th>MoSold</th>\n",
       "      <th>YrSold</th>\n",
       "      <th>SaleType</th>\n",
       "      <th>SaleCondition</th>\n",
       "      <th>SalePrice</th>\n",
       "    </tr>\n",
       "  </thead>\n",
       "  <tbody>\n",
       "    <tr>\n",
       "      <th>0</th>\n",
       "      <td>1</td>\n",
       "      <td>60</td>\n",
       "      <td>RL</td>\n",
       "      <td>65.0</td>\n",
       "      <td>8450</td>\n",
       "      <td>Pave</td>\n",
       "      <td>NaN</td>\n",
       "      <td>Reg</td>\n",
       "      <td>Lvl</td>\n",
       "      <td>AllPub</td>\n",
       "      <td>...</td>\n",
       "      <td>0</td>\n",
       "      <td>NaN</td>\n",
       "      <td>NaN</td>\n",
       "      <td>NaN</td>\n",
       "      <td>0</td>\n",
       "      <td>2</td>\n",
       "      <td>2008</td>\n",
       "      <td>WD</td>\n",
       "      <td>Normal</td>\n",
       "      <td>208500</td>\n",
       "    </tr>\n",
       "    <tr>\n",
       "      <th>1</th>\n",
       "      <td>2</td>\n",
       "      <td>20</td>\n",
       "      <td>RL</td>\n",
       "      <td>80.0</td>\n",
       "      <td>9600</td>\n",
       "      <td>Pave</td>\n",
       "      <td>NaN</td>\n",
       "      <td>Reg</td>\n",
       "      <td>Lvl</td>\n",
       "      <td>AllPub</td>\n",
       "      <td>...</td>\n",
       "      <td>0</td>\n",
       "      <td>NaN</td>\n",
       "      <td>NaN</td>\n",
       "      <td>NaN</td>\n",
       "      <td>0</td>\n",
       "      <td>5</td>\n",
       "      <td>2007</td>\n",
       "      <td>WD</td>\n",
       "      <td>Normal</td>\n",
       "      <td>181500</td>\n",
       "    </tr>\n",
       "    <tr>\n",
       "      <th>2</th>\n",
       "      <td>3</td>\n",
       "      <td>60</td>\n",
       "      <td>RL</td>\n",
       "      <td>68.0</td>\n",
       "      <td>11250</td>\n",
       "      <td>Pave</td>\n",
       "      <td>NaN</td>\n",
       "      <td>IR1</td>\n",
       "      <td>Lvl</td>\n",
       "      <td>AllPub</td>\n",
       "      <td>...</td>\n",
       "      <td>0</td>\n",
       "      <td>NaN</td>\n",
       "      <td>NaN</td>\n",
       "      <td>NaN</td>\n",
       "      <td>0</td>\n",
       "      <td>9</td>\n",
       "      <td>2008</td>\n",
       "      <td>WD</td>\n",
       "      <td>Normal</td>\n",
       "      <td>223500</td>\n",
       "    </tr>\n",
       "    <tr>\n",
       "      <th>3</th>\n",
       "      <td>4</td>\n",
       "      <td>70</td>\n",
       "      <td>RL</td>\n",
       "      <td>60.0</td>\n",
       "      <td>9550</td>\n",
       "      <td>Pave</td>\n",
       "      <td>NaN</td>\n",
       "      <td>IR1</td>\n",
       "      <td>Lvl</td>\n",
       "      <td>AllPub</td>\n",
       "      <td>...</td>\n",
       "      <td>0</td>\n",
       "      <td>NaN</td>\n",
       "      <td>NaN</td>\n",
       "      <td>NaN</td>\n",
       "      <td>0</td>\n",
       "      <td>2</td>\n",
       "      <td>2006</td>\n",
       "      <td>WD</td>\n",
       "      <td>Abnorml</td>\n",
       "      <td>140000</td>\n",
       "    </tr>\n",
       "    <tr>\n",
       "      <th>4</th>\n",
       "      <td>5</td>\n",
       "      <td>60</td>\n",
       "      <td>RL</td>\n",
       "      <td>84.0</td>\n",
       "      <td>14260</td>\n",
       "      <td>Pave</td>\n",
       "      <td>NaN</td>\n",
       "      <td>IR1</td>\n",
       "      <td>Lvl</td>\n",
       "      <td>AllPub</td>\n",
       "      <td>...</td>\n",
       "      <td>0</td>\n",
       "      <td>NaN</td>\n",
       "      <td>NaN</td>\n",
       "      <td>NaN</td>\n",
       "      <td>0</td>\n",
       "      <td>12</td>\n",
       "      <td>2008</td>\n",
       "      <td>WD</td>\n",
       "      <td>Normal</td>\n",
       "      <td>250000</td>\n",
       "    </tr>\n",
       "  </tbody>\n",
       "</table>\n",
       "<p>5 rows × 81 columns</p>\n",
       "</div>"
      ],
      "text/plain": [
       "   Id  MSSubClass MSZoning  LotFrontage  LotArea Street Alley LotShape  \\\n",
       "0   1          60       RL         65.0     8450   Pave   NaN      Reg   \n",
       "1   2          20       RL         80.0     9600   Pave   NaN      Reg   \n",
       "2   3          60       RL         68.0    11250   Pave   NaN      IR1   \n",
       "3   4          70       RL         60.0     9550   Pave   NaN      IR1   \n",
       "4   5          60       RL         84.0    14260   Pave   NaN      IR1   \n",
       "\n",
       "  LandContour Utilities  ... PoolArea PoolQC Fence MiscFeature MiscVal MoSold  \\\n",
       "0         Lvl    AllPub  ...        0    NaN   NaN         NaN       0      2   \n",
       "1         Lvl    AllPub  ...        0    NaN   NaN         NaN       0      5   \n",
       "2         Lvl    AllPub  ...        0    NaN   NaN         NaN       0      9   \n",
       "3         Lvl    AllPub  ...        0    NaN   NaN         NaN       0      2   \n",
       "4         Lvl    AllPub  ...        0    NaN   NaN         NaN       0     12   \n",
       "\n",
       "  YrSold  SaleType  SaleCondition  SalePrice  \n",
       "0   2008        WD         Normal     208500  \n",
       "1   2007        WD         Normal     181500  \n",
       "2   2008        WD         Normal     223500  \n",
       "3   2006        WD        Abnorml     140000  \n",
       "4   2008        WD         Normal     250000  \n",
       "\n",
       "[5 rows x 81 columns]"
      ]
     },
     "execution_count": 3,
     "metadata": {},
     "output_type": "execute_result"
    }
   ],
   "source": [
    "train_df.head()"
   ]
  },
  {
   "cell_type": "code",
   "execution_count": 4,
   "id": "5333fc53",
   "metadata": {
    "execution": {
     "iopub.execute_input": "2022-10-19T20:27:00.993371Z",
     "iopub.status.busy": "2022-10-19T20:27:00.992896Z",
     "iopub.status.idle": "2022-10-19T20:27:01.042428Z",
     "shell.execute_reply": "2022-10-19T20:27:01.040791Z"
    },
    "papermill": {
     "duration": 0.059407,
     "end_time": "2022-10-19T20:27:01.045468",
     "exception": false,
     "start_time": "2022-10-19T20:27:00.986061",
     "status": "completed"
    },
    "tags": []
   },
   "outputs": [
    {
     "name": "stdout",
     "output_type": "stream",
     "text": [
      "['MSZoning', 'Street', 'LotShape', 'LandContour', 'Utilities', 'LotConfig', 'LandSlope', 'Condition1', 'Condition2', 'BldgType', 'HouseStyle', 'RoofStyle', 'RoofMatl', 'ExterQual', 'ExterCond', 'Foundation', 'Heating', 'HeatingQC', 'CentralAir', 'KitchenQual', 'Functional', 'PavedDrive', 'SaleType', 'SaleCondition']\n",
      "['MSSubClass', 'LotArea', 'OverallQual', 'OverallCond', 'YearBuilt', 'YearRemodAdd', 'BsmtFinSF1', 'BsmtFinSF2', 'BsmtUnfSF', 'TotalBsmtSF', '1stFlrSF', '2ndFlrSF', 'LowQualFinSF', 'GrLivArea', 'BsmtFullBath', 'BsmtHalfBath', 'FullBath', 'HalfBath', 'BedroomAbvGr', 'KitchenAbvGr', 'TotRmsAbvGrd', 'Fireplaces', 'GarageCars', 'GarageArea', 'WoodDeckSF', 'OpenPorchSF', 'EnclosedPorch', '3SsnPorch', 'ScreenPorch', 'PoolArea', 'MiscVal', 'MoSold', 'YrSold']\n"
     ]
    }
   ],
   "source": [
    "col_missing_val=[col for col in test_df.columns if test_df[col].isnull().any() ]\n",
    "\n",
    "train_predictors=train_df.drop(labels=[\"Id\",\"SalePrice\"]+col_missing_val,axis=1)\n",
    "test_predictors=test_df.drop(labels=[\"Id\"]+col_missing_val,axis=1)\n",
    "\n",
    "low_cardinality=[col for col in train_predictors.columns if train_predictors[col].dtype==\"object\" and train_predictors[col].nunique()<10 ]\n",
    "numeric=[col for col in train_predictors.columns if train_predictors[col].dtype in [\"int64\",\"float64\"] ]\n",
    "\n",
    "print(low_cardinality)\n",
    "print(numeric)\n",
    "\n",
    "train_predictors1=train_predictors[low_cardinality+numeric]\n",
    "test_predictors1=test_predictors[low_cardinality+numeric]"
   ]
  },
  {
   "cell_type": "code",
   "execution_count": 5,
   "id": "e44853f8",
   "metadata": {
    "execution": {
     "iopub.execute_input": "2022-10-19T20:27:01.058940Z",
     "iopub.status.busy": "2022-10-19T20:27:01.058515Z",
     "iopub.status.idle": "2022-10-19T20:27:01.067212Z",
     "shell.execute_reply": "2022-10-19T20:27:01.066128Z"
    },
    "papermill": {
     "duration": 0.018956,
     "end_time": "2022-10-19T20:27:01.070286",
     "exception": false,
     "start_time": "2022-10-19T20:27:01.051330",
     "status": "completed"
    },
    "tags": []
   },
   "outputs": [
    {
     "data": {
      "text/plain": [
       "RoofMatl      object\n",
       "Functional    object\n",
       "dtype: object"
      ]
     },
     "execution_count": 5,
     "metadata": {},
     "output_type": "execute_result"
    }
   ],
   "source": [
    "train_predictors1.dtypes.sample(2)"
   ]
  },
  {
   "cell_type": "code",
   "execution_count": 6,
   "id": "2ae644ec",
   "metadata": {
    "execution": {
     "iopub.execute_input": "2022-10-19T20:27:01.085181Z",
     "iopub.status.busy": "2022-10-19T20:27:01.084780Z",
     "iopub.status.idle": "2022-10-19T20:27:01.119174Z",
     "shell.execute_reply": "2022-10-19T20:27:01.117879Z"
    },
    "papermill": {
     "duration": 0.045547,
     "end_time": "2022-10-19T20:27:01.122179",
     "exception": false,
     "start_time": "2022-10-19T20:27:01.076632",
     "status": "completed"
    },
    "tags": []
   },
   "outputs": [],
   "source": [
    "one_hot_encoded=pd.get_dummies(train_predictors1)"
   ]
  },
  {
   "cell_type": "code",
   "execution_count": 7,
   "id": "c3bef380",
   "metadata": {
    "execution": {
     "iopub.execute_input": "2022-10-19T20:27:01.136442Z",
     "iopub.status.busy": "2022-10-19T20:27:01.135640Z",
     "iopub.status.idle": "2022-10-19T20:27:01.156947Z",
     "shell.execute_reply": "2022-10-19T20:27:01.155471Z"
    },
    "papermill": {
     "duration": 0.031537,
     "end_time": "2022-10-19T20:27:01.159567",
     "exception": false,
     "start_time": "2022-10-19T20:27:01.128030",
     "status": "completed"
    },
    "tags": []
   },
   "outputs": [
    {
     "data": {
      "text/html": [
       "<div>\n",
       "<style scoped>\n",
       "    .dataframe tbody tr th:only-of-type {\n",
       "        vertical-align: middle;\n",
       "    }\n",
       "\n",
       "    .dataframe tbody tr th {\n",
       "        vertical-align: top;\n",
       "    }\n",
       "\n",
       "    .dataframe thead th {\n",
       "        text-align: right;\n",
       "    }\n",
       "</style>\n",
       "<table border=\"1\" class=\"dataframe\">\n",
       "  <thead>\n",
       "    <tr style=\"text-align: right;\">\n",
       "      <th></th>\n",
       "      <th>MSSubClass</th>\n",
       "      <th>LotArea</th>\n",
       "      <th>OverallQual</th>\n",
       "      <th>OverallCond</th>\n",
       "      <th>YearBuilt</th>\n",
       "      <th>YearRemodAdd</th>\n",
       "      <th>BsmtFinSF1</th>\n",
       "      <th>BsmtFinSF2</th>\n",
       "      <th>BsmtUnfSF</th>\n",
       "      <th>TotalBsmtSF</th>\n",
       "      <th>...</th>\n",
       "      <th>SaleType_ConLw</th>\n",
       "      <th>SaleType_New</th>\n",
       "      <th>SaleType_Oth</th>\n",
       "      <th>SaleType_WD</th>\n",
       "      <th>SaleCondition_Abnorml</th>\n",
       "      <th>SaleCondition_AdjLand</th>\n",
       "      <th>SaleCondition_Alloca</th>\n",
       "      <th>SaleCondition_Family</th>\n",
       "      <th>SaleCondition_Normal</th>\n",
       "      <th>SaleCondition_Partial</th>\n",
       "    </tr>\n",
       "  </thead>\n",
       "  <tbody>\n",
       "    <tr>\n",
       "      <th>0</th>\n",
       "      <td>60</td>\n",
       "      <td>8450</td>\n",
       "      <td>7</td>\n",
       "      <td>5</td>\n",
       "      <td>2003</td>\n",
       "      <td>2003</td>\n",
       "      <td>706</td>\n",
       "      <td>0</td>\n",
       "      <td>150</td>\n",
       "      <td>856</td>\n",
       "      <td>...</td>\n",
       "      <td>0</td>\n",
       "      <td>0</td>\n",
       "      <td>0</td>\n",
       "      <td>1</td>\n",
       "      <td>0</td>\n",
       "      <td>0</td>\n",
       "      <td>0</td>\n",
       "      <td>0</td>\n",
       "      <td>1</td>\n",
       "      <td>0</td>\n",
       "    </tr>\n",
       "    <tr>\n",
       "      <th>1</th>\n",
       "      <td>20</td>\n",
       "      <td>9600</td>\n",
       "      <td>6</td>\n",
       "      <td>8</td>\n",
       "      <td>1976</td>\n",
       "      <td>1976</td>\n",
       "      <td>978</td>\n",
       "      <td>0</td>\n",
       "      <td>284</td>\n",
       "      <td>1262</td>\n",
       "      <td>...</td>\n",
       "      <td>0</td>\n",
       "      <td>0</td>\n",
       "      <td>0</td>\n",
       "      <td>1</td>\n",
       "      <td>0</td>\n",
       "      <td>0</td>\n",
       "      <td>0</td>\n",
       "      <td>0</td>\n",
       "      <td>1</td>\n",
       "      <td>0</td>\n",
       "    </tr>\n",
       "    <tr>\n",
       "      <th>2</th>\n",
       "      <td>60</td>\n",
       "      <td>11250</td>\n",
       "      <td>7</td>\n",
       "      <td>5</td>\n",
       "      <td>2001</td>\n",
       "      <td>2002</td>\n",
       "      <td>486</td>\n",
       "      <td>0</td>\n",
       "      <td>434</td>\n",
       "      <td>920</td>\n",
       "      <td>...</td>\n",
       "      <td>0</td>\n",
       "      <td>0</td>\n",
       "      <td>0</td>\n",
       "      <td>1</td>\n",
       "      <td>0</td>\n",
       "      <td>0</td>\n",
       "      <td>0</td>\n",
       "      <td>0</td>\n",
       "      <td>1</td>\n",
       "      <td>0</td>\n",
       "    </tr>\n",
       "    <tr>\n",
       "      <th>3</th>\n",
       "      <td>70</td>\n",
       "      <td>9550</td>\n",
       "      <td>7</td>\n",
       "      <td>5</td>\n",
       "      <td>1915</td>\n",
       "      <td>1970</td>\n",
       "      <td>216</td>\n",
       "      <td>0</td>\n",
       "      <td>540</td>\n",
       "      <td>756</td>\n",
       "      <td>...</td>\n",
       "      <td>0</td>\n",
       "      <td>0</td>\n",
       "      <td>0</td>\n",
       "      <td>1</td>\n",
       "      <td>1</td>\n",
       "      <td>0</td>\n",
       "      <td>0</td>\n",
       "      <td>0</td>\n",
       "      <td>0</td>\n",
       "      <td>0</td>\n",
       "    </tr>\n",
       "    <tr>\n",
       "      <th>4</th>\n",
       "      <td>60</td>\n",
       "      <td>14260</td>\n",
       "      <td>8</td>\n",
       "      <td>5</td>\n",
       "      <td>2000</td>\n",
       "      <td>2000</td>\n",
       "      <td>655</td>\n",
       "      <td>0</td>\n",
       "      <td>490</td>\n",
       "      <td>1145</td>\n",
       "      <td>...</td>\n",
       "      <td>0</td>\n",
       "      <td>0</td>\n",
       "      <td>0</td>\n",
       "      <td>1</td>\n",
       "      <td>0</td>\n",
       "      <td>0</td>\n",
       "      <td>0</td>\n",
       "      <td>0</td>\n",
       "      <td>1</td>\n",
       "      <td>0</td>\n",
       "    </tr>\n",
       "  </tbody>\n",
       "</table>\n",
       "<p>5 rows × 159 columns</p>\n",
       "</div>"
      ],
      "text/plain": [
       "   MSSubClass  LotArea  OverallQual  OverallCond  YearBuilt  YearRemodAdd  \\\n",
       "0          60     8450            7            5       2003          2003   \n",
       "1          20     9600            6            8       1976          1976   \n",
       "2          60    11250            7            5       2001          2002   \n",
       "3          70     9550            7            5       1915          1970   \n",
       "4          60    14260            8            5       2000          2000   \n",
       "\n",
       "   BsmtFinSF1  BsmtFinSF2  BsmtUnfSF  TotalBsmtSF  ...  SaleType_ConLw  \\\n",
       "0         706           0        150          856  ...               0   \n",
       "1         978           0        284         1262  ...               0   \n",
       "2         486           0        434          920  ...               0   \n",
       "3         216           0        540          756  ...               0   \n",
       "4         655           0        490         1145  ...               0   \n",
       "\n",
       "   SaleType_New  SaleType_Oth  SaleType_WD  SaleCondition_Abnorml  \\\n",
       "0             0             0            1                      0   \n",
       "1             0             0            1                      0   \n",
       "2             0             0            1                      0   \n",
       "3             0             0            1                      1   \n",
       "4             0             0            1                      0   \n",
       "\n",
       "   SaleCondition_AdjLand  SaleCondition_Alloca  SaleCondition_Family  \\\n",
       "0                      0                     0                     0   \n",
       "1                      0                     0                     0   \n",
       "2                      0                     0                     0   \n",
       "3                      0                     0                     0   \n",
       "4                      0                     0                     0   \n",
       "\n",
       "   SaleCondition_Normal  SaleCondition_Partial  \n",
       "0                     1                      0  \n",
       "1                     1                      0  \n",
       "2                     1                      0  \n",
       "3                     0                      0  \n",
       "4                     1                      0  \n",
       "\n",
       "[5 rows x 159 columns]"
      ]
     },
     "execution_count": 7,
     "metadata": {},
     "output_type": "execute_result"
    }
   ],
   "source": [
    "one_hot_encoded.head()"
   ]
  },
  {
   "cell_type": "code",
   "execution_count": 8,
   "id": "48639890",
   "metadata": {
    "execution": {
     "iopub.execute_input": "2022-10-19T20:27:01.173518Z",
     "iopub.status.busy": "2022-10-19T20:27:01.173042Z",
     "iopub.status.idle": "2022-10-19T20:27:10.244051Z",
     "shell.execute_reply": "2022-10-19T20:27:10.242735Z"
    },
    "papermill": {
     "duration": 9.080941,
     "end_time": "2022-10-19T20:27:10.246601",
     "exception": false,
     "start_time": "2022-10-19T20:27:01.165660",
     "status": "completed"
    },
    "tags": []
   },
   "outputs": [
    {
     "name": "stdout",
     "output_type": "stream",
     "text": [
      "With numericals 18365.567438356164\n",
      "With one hot encoding 18053.499899543378\n"
     ]
    }
   ],
   "source": [
    "from sklearn.model_selection import cross_val_score\n",
    "from sklearn.ensemble import RandomForestRegressor\n",
    "from sklearn.linear_model import LinearRegression\n",
    "from sklearn.tree import DecisionTreeRegressor\n",
    "\n",
    "\n",
    "def find_mae(X,y):\n",
    "    return -1*cross_val_score(RandomForestRegressor(50),X,y,scoring = 'neg_mean_absolute_error').mean()\n",
    "\n",
    "numeric_predictors=train_predictors1.select_dtypes(exclude=['object'])\n",
    "print(\"With numericals\",find_mae(numeric_predictors,target))\n",
    "print(\"With one hot encoding\",find_mae(one_hot_encoded,target))"
   ]
  },
  {
   "cell_type": "code",
   "execution_count": 9,
   "id": "207edfa7",
   "metadata": {
    "execution": {
     "iopub.execute_input": "2022-10-19T20:27:10.260308Z",
     "iopub.status.busy": "2022-10-19T20:27:10.259892Z",
     "iopub.status.idle": "2022-10-19T20:27:19.517328Z",
     "shell.execute_reply": "2022-10-19T20:27:19.515619Z"
    },
    "papermill": {
     "duration": 9.267825,
     "end_time": "2022-10-19T20:27:19.520487",
     "exception": false,
     "start_time": "2022-10-19T20:27:10.252662",
     "status": "completed"
    },
    "tags": []
   },
   "outputs": [
    {
     "data": {
      "text/plain": [
       "0.855537793177964"
      ]
     },
     "execution_count": 9,
     "metadata": {},
     "output_type": "execute_result"
    }
   ],
   "source": [
    "import numpy as np\n",
    "model=cross_val_score(RandomForestRegressor(100),one_hot_encoded,target,cv=5)\n",
    "np.average(model)"
   ]
  },
  {
   "cell_type": "code",
   "execution_count": 10,
   "id": "70626952",
   "metadata": {
    "execution": {
     "iopub.execute_input": "2022-10-19T20:27:19.535304Z",
     "iopub.status.busy": "2022-10-19T20:27:19.534867Z",
     "iopub.status.idle": "2022-10-19T20:27:19.541834Z",
     "shell.execute_reply": "2022-10-19T20:27:19.540592Z"
    },
    "papermill": {
     "duration": 0.017051,
     "end_time": "2022-10-19T20:27:19.544048",
     "exception": false,
     "start_time": "2022-10-19T20:27:19.526997",
     "status": "completed"
    },
    "tags": []
   },
   "outputs": [],
   "source": [
    "model_params={\n",
    "    \"Random forest\":{\n",
    "        \"model\":RandomForestRegressor(),\n",
    "        \"param\":{\n",
    "            \"n_estimators\":[50,60,70,80]\n",
    "        }\n",
    "        \n",
    "    },\n",
    "    \"linear Regression\":{\n",
    "        \"model\":LinearRegression(),\n",
    "        \"param\":{\n",
    "            \"fit_intercept\":[True ,False]\n",
    "        }\n",
    "    },\n",
    "     \"Decision Regression\":{\n",
    "        \"model\":DecisionTreeRegressor(),\n",
    "        \"param\":{\n",
    "            \"criterion\" : [\"squared_error\", \n",
    "                           \"friedman_mse\", \n",
    "                           \"absolute_error\",             \n",
    "                           \"poisson\"], \n",
    "            \"splitter\" : [\"best\", \"random\"],\n",
    "            \"max_features\" :[\"auto\", \"sqrt\", \"log2\"]\n",
    "        }\n",
    "    },\n",
    "\n",
    "}"
   ]
  },
  {
   "cell_type": "code",
   "execution_count": 11,
   "id": "7a5d8c83",
   "metadata": {
    "execution": {
     "iopub.execute_input": "2022-10-19T20:27:19.558068Z",
     "iopub.status.busy": "2022-10-19T20:27:19.557302Z",
     "iopub.status.idle": "2022-10-19T20:27:54.593106Z",
     "shell.execute_reply": "2022-10-19T20:27:54.591884Z"
    },
    "papermill": {
     "duration": 35.045944,
     "end_time": "2022-10-19T20:27:54.595954",
     "exception": false,
     "start_time": "2022-10-19T20:27:19.550010",
     "status": "completed"
    },
    "tags": []
   },
   "outputs": [],
   "source": [
    "from sklearn.model_selection  import GridSearchCV\n",
    "scores=[]\n",
    "for model, mp in model_params.items():\n",
    "    Gcv=GridSearchCV(mp['model'],mp['param'],cv=5,return_train_score=True)\n",
    "    Gcv.fit(one_hot_encoded,target)\n",
    "    scores.append(\n",
    "        {\n",
    "            \"Model\":model,\n",
    "            \"Best_params\":Gcv.best_params_,\n",
    "            \"Best_score\":Gcv.best_score_\n",
    "        }\n",
    "    )\n",
    "res_tb=pd.DataFrame(scores,columns=['Model','Best_params',\"Best_score\"])"
   ]
  },
  {
   "cell_type": "code",
   "execution_count": 12,
   "id": "23f9a898",
   "metadata": {
    "execution": {
     "iopub.execute_input": "2022-10-19T20:27:54.609957Z",
     "iopub.status.busy": "2022-10-19T20:27:54.609109Z",
     "iopub.status.idle": "2022-10-19T20:27:54.622104Z",
     "shell.execute_reply": "2022-10-19T20:27:54.620774Z"
    },
    "papermill": {
     "duration": 0.022613,
     "end_time": "2022-10-19T20:27:54.624663",
     "exception": false,
     "start_time": "2022-10-19T20:27:54.602050",
     "status": "completed"
    },
    "tags": []
   },
   "outputs": [
    {
     "data": {
      "text/html": [
       "<div>\n",
       "<style scoped>\n",
       "    .dataframe tbody tr th:only-of-type {\n",
       "        vertical-align: middle;\n",
       "    }\n",
       "\n",
       "    .dataframe tbody tr th {\n",
       "        vertical-align: top;\n",
       "    }\n",
       "\n",
       "    .dataframe thead th {\n",
       "        text-align: right;\n",
       "    }\n",
       "</style>\n",
       "<table border=\"1\" class=\"dataframe\">\n",
       "  <thead>\n",
       "    <tr style=\"text-align: right;\">\n",
       "      <th></th>\n",
       "      <th>Model</th>\n",
       "      <th>Best_params</th>\n",
       "      <th>Best_score</th>\n",
       "    </tr>\n",
       "  </thead>\n",
       "  <tbody>\n",
       "    <tr>\n",
       "      <th>0</th>\n",
       "      <td>Random forest</td>\n",
       "      <td>{'n_estimators': 70}</td>\n",
       "      <td>0.858299</td>\n",
       "    </tr>\n",
       "    <tr>\n",
       "      <th>1</th>\n",
       "      <td>linear Regression</td>\n",
       "      <td>{'fit_intercept': True}</td>\n",
       "      <td>0.784340</td>\n",
       "    </tr>\n",
       "    <tr>\n",
       "      <th>2</th>\n",
       "      <td>Decision Regression</td>\n",
       "      <td>{'criterion': 'absolute_error', 'max_features'...</td>\n",
       "      <td>0.741310</td>\n",
       "    </tr>\n",
       "  </tbody>\n",
       "</table>\n",
       "</div>"
      ],
      "text/plain": [
       "                 Model                                        Best_params  \\\n",
       "0        Random forest                               {'n_estimators': 70}   \n",
       "1    linear Regression                            {'fit_intercept': True}   \n",
       "2  Decision Regression  {'criterion': 'absolute_error', 'max_features'...   \n",
       "\n",
       "   Best_score  \n",
       "0    0.858299  \n",
       "1    0.784340  \n",
       "2    0.741310  "
      ]
     },
     "execution_count": 12,
     "metadata": {},
     "output_type": "execute_result"
    }
   ],
   "source": [
    "res_tb"
   ]
  },
  {
   "cell_type": "code",
   "execution_count": 13,
   "id": "33ae06fe",
   "metadata": {
    "execution": {
     "iopub.execute_input": "2022-10-19T20:27:54.640446Z",
     "iopub.status.busy": "2022-10-19T20:27:54.640024Z",
     "iopub.status.idle": "2022-10-19T20:27:56.089189Z",
     "shell.execute_reply": "2022-10-19T20:27:56.088195Z"
    },
    "papermill": {
     "duration": 1.459878,
     "end_time": "2022-10-19T20:27:56.091946",
     "exception": false,
     "start_time": "2022-10-19T20:27:54.632068",
     "status": "completed"
    },
    "tags": []
   },
   "outputs": [
    {
     "data": {
      "text/plain": [
       "0.9824509871921647"
      ]
     },
     "execution_count": 13,
     "metadata": {},
     "output_type": "execute_result"
    }
   ],
   "source": [
    "model=RandomForestRegressor(60)\n",
    "model.fit(one_hot_encoded,target)\n",
    "one_hot_encoded_test=pd.get_dummies(test_predictors1)\n",
    "model.score(one_hot_encoded_test,target)"
   ]
  },
  {
   "cell_type": "code",
   "execution_count": 14,
   "id": "53313650",
   "metadata": {
    "execution": {
     "iopub.execute_input": "2022-10-19T20:27:56.107521Z",
     "iopub.status.busy": "2022-10-19T20:27:56.106517Z",
     "iopub.status.idle": "2022-10-19T20:27:56.571266Z",
     "shell.execute_reply": "2022-10-19T20:27:56.569969Z"
    },
    "papermill": {
     "duration": 0.475746,
     "end_time": "2022-10-19T20:27:56.574361",
     "exception": false,
     "start_time": "2022-10-19T20:27:56.098615",
     "status": "completed"
    },
    "tags": []
   },
   "outputs": [
    {
     "data": {
      "image/png": "[encoded data removed]",
      "text/plain": [
       "<Figure size 432x288 with 1 Axes>"
      ]
     },
     "metadata": {
      "needs_background": "light"
     },
     "output_type": "display_data"
    }
   ],
   "source": [
    "import matplotlib.pyplot as plt\n",
    "predicted=model.predict(one_hot_encoded_test)\n",
    "plt.plot(one_hot_encoded_test,target)\n",
    "plt.show()"
   ]
  },
  {
   "cell_type": "code",
   "execution_count": 15,
   "id": "df886492",
   "metadata": {
    "execution": {
     "iopub.execute_input": "2022-10-19T20:27:56.591290Z",
     "iopub.status.busy": "2022-10-19T20:27:56.590651Z",
     "iopub.status.idle": "2022-10-19T20:27:56.603611Z",
     "shell.execute_reply": "2022-10-19T20:27:56.602451Z"
    },
    "papermill": {
     "duration": 0.024032,
     "end_time": "2022-10-19T20:27:56.606112",
     "exception": false,
     "start_time": "2022-10-19T20:27:56.582080",
     "status": "completed"
    },
    "tags": []
   },
   "outputs": [
    {
     "data": {
      "text/html": [
       "<div>\n",
       "<style scoped>\n",
       "    .dataframe tbody tr th:only-of-type {\n",
       "        vertical-align: middle;\n",
       "    }\n",
       "\n",
       "    .dataframe tbody tr th {\n",
       "        vertical-align: top;\n",
       "    }\n",
       "\n",
       "    .dataframe thead th {\n",
       "        text-align: right;\n",
       "    }\n",
       "</style>\n",
       "<table border=\"1\" class=\"dataframe\">\n",
       "  <thead>\n",
       "    <tr style=\"text-align: right;\">\n",
       "      <th></th>\n",
       "      <th>ID</th>\n",
       "      <th>Predicted</th>\n",
       "      <th>Actual</th>\n",
       "    </tr>\n",
       "  </thead>\n",
       "  <tbody>\n",
       "    <tr>\n",
       "      <th>0</th>\n",
       "      <td>1</td>\n",
       "      <td>204910.833333</td>\n",
       "      <td>208500</td>\n",
       "    </tr>\n",
       "    <tr>\n",
       "      <th>1</th>\n",
       "      <td>2</td>\n",
       "      <td>176033.333333</td>\n",
       "      <td>181500</td>\n",
       "    </tr>\n",
       "    <tr>\n",
       "      <th>2</th>\n",
       "      <td>3</td>\n",
       "      <td>221496.250000</td>\n",
       "      <td>223500</td>\n",
       "    </tr>\n",
       "    <tr>\n",
       "      <th>3</th>\n",
       "      <td>4</td>\n",
       "      <td>152927.666667</td>\n",
       "      <td>140000</td>\n",
       "    </tr>\n",
       "    <tr>\n",
       "      <th>4</th>\n",
       "      <td>5</td>\n",
       "      <td>266340.000000</td>\n",
       "      <td>250000</td>\n",
       "    </tr>\n",
       "  </tbody>\n",
       "</table>\n",
       "</div>"
      ],
      "text/plain": [
       "   ID      Predicted  Actual\n",
       "0   1  204910.833333  208500\n",
       "1   2  176033.333333  181500\n",
       "2   3  221496.250000  223500\n",
       "3   4  152927.666667  140000\n",
       "4   5  266340.000000  250000"
      ]
     },
     "execution_count": 15,
     "metadata": {},
     "output_type": "execute_result"
    }
   ],
   "source": [
    "submission=pd.DataFrame({\"ID\":test_df.Id,\"Predicted\":predicted,\"Actual\":target})\n",
    "submission.head()"
   ]
  },
  {
   "cell_type": "code",
   "execution_count": 16,
   "id": "503b5944",
   "metadata": {
    "execution": {
     "iopub.execute_input": "2022-10-19T20:27:56.622871Z",
     "iopub.status.busy": "2022-10-19T20:27:56.622453Z",
     "iopub.status.idle": "2022-10-19T20:27:56.634228Z",
     "shell.execute_reply": "2022-10-19T20:27:56.633137Z"
    },
    "papermill": {
     "duration": 0.023653,
     "end_time": "2022-10-19T20:27:56.637246",
     "exception": false,
     "start_time": "2022-10-19T20:27:56.613593",
     "status": "completed"
    },
    "tags": []
   },
   "outputs": [],
   "source": [
    "submission.to_csv('submission.csv', index=False)"
   ]
  },
  {
   "cell_type": "code",
   "execution_count": null,
   "id": "bf1042b3",
   "metadata": {
    "papermill": {
     "duration": 0.007506,
     "end_time": "2022-10-19T20:27:56.652823",
     "exception": false,
     "start_time": "2022-10-19T20:27:56.645317",
     "status": "completed"
    },
    "tags": []
   },
   "outputs": [],
   "source": []
  }
 ],
 "metadata": {
  "kernelspec": {
   "display_name": "Python 3",
   "language": "python",
   "name": "python3"
  },
  "language_info": {
   "codemirror_mode": {
    "name": "ipython",
    "version": 3
   },
   "file_extension": ".py",
   "mimetype": "text/x-python",
   "name": "python",
   "nbconvert_exporter": "python",
   "pygments_lexer": "ipython3",
   "version": "3.7.12"
  },
  "papermill": {
   "default_parameters": {},
   "duration": 66.686916,
   "end_time": "2022-10-19T20:27:57.483129",
   "environment_variables": {},
   "exception": null,
   "input_path": "__notebook__.ipynb",
   "output_path": "__notebook__.ipynb",
   "parameters": {},
   "start_time": "2022-10-19T20:26:50.796213",
   "version": "2.3.4"
  }
 },
 "nbformat": 4,
 "nbformat_minor": 5
}
